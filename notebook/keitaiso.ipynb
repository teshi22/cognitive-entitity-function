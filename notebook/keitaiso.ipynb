{
 "cells": [
  {
   "cell_type": "code",
   "execution_count": 7,
   "metadata": {},
   "outputs": [
    {
     "name": "stdout",
     "output_type": "stream",
     "text": [
      "Requirement already satisfied: mecab-python3 in /home/taishi/work/10_keitaiso/.venv/lib/python3.8/site-packages (1.0.5)\n",
      "Requirement already satisfied: unidic-lite in /home/taishi/work/10_keitaiso/.venv/lib/python3.8/site-packages (1.0.8)\n"
     ]
    }
   ],
   "source": [
    "!pip install mecab-python3 unidic-lite"
   ]
  },
  {
   "cell_type": "code",
   "execution_count": 3,
   "metadata": {},
   "outputs": [],
   "source": [
    "import MeCab"
   ]
  },
  {
   "cell_type": "code",
   "execution_count": 4,
   "metadata": {},
   "outputs": [],
   "source": [
    "text = \"筆者の子どもが通う公立の小学校は、来年で150周年の節目を迎えるそうです。具体的には、1873年（明治6年）創立とあります。立派な歴史だなあと思う一方で、日本で最も古い歴史を持つ現役の公立小学校は、どこになるのか気になりました。\""
   ]
  },
  {
   "cell_type": "code",
   "execution_count": 10,
   "metadata": {},
   "outputs": [],
   "source": [
    "tagger = MeCab.Tagger(\"-Owakati\")\n",
    "tag_list = tagger.parse(text).split()\n",
    "target_list = [\"公立\", \"歴史\"]"
   ]
  },
  {
   "cell_type": "code",
   "execution_count": 11,
   "metadata": {},
   "outputs": [
    {
     "name": "stdout",
     "output_type": "stream",
     "text": [
      "公立 OK\n",
      "歴史 OK\n"
     ]
    }
   ],
   "source": [
    "for target in target_list:\n",
    "    if target in tag_list:\n",
    "        print(target, \"OK\")"
   ]
  },
  {
   "cell_type": "code",
   "execution_count": 14,
   "metadata": {},
   "outputs": [
    {
     "data": {
      "text/plain": [
       "[5, 58]"
      ]
     },
     "execution_count": 14,
     "metadata": {},
     "output_type": "execute_result"
    }
   ],
   "source": [
    "[i for i, x in enumerate(tag_list) if x == '公立']"
   ]
  },
  {
   "cell_type": "code",
   "execution_count": null,
   "metadata": {},
   "outputs": [],
   "source": []
  }
 ],
 "metadata": {
  "kernelspec": {
   "display_name": "Python 3.8.10 ('.venv': venv)",
   "language": "python",
   "name": "python3"
  },
  "language_info": {
   "codemirror_mode": {
    "name": "ipython",
    "version": 3
   },
   "file_extension": ".py",
   "mimetype": "text/x-python",
   "name": "python",
   "nbconvert_exporter": "python",
   "pygments_lexer": "ipython3",
   "version": "3.8.10"
  },
  "orig_nbformat": 4,
  "vscode": {
   "interpreter": {
    "hash": "1954ebf34112465b3b16db25ed05ed92484bf6a73d6ca0e9c10ce19d0b7d7ee2"
   }
  }
 },
 "nbformat": 4,
 "nbformat_minor": 2
}
